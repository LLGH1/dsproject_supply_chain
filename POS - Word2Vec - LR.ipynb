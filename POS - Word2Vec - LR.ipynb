{
 "cells": [
  {
   "cell_type": "code",
   "execution_count": null,
   "id": "f277522c",
   "metadata": {},
   "outputs": [
    {
     "name": "stderr",
     "output_type": "stream",
     "text": [
      "[nltk_data] Downloading package punkt to\n",
      "[nltk_data]     C:\\Users\\phreb\\AppData\\Roaming\\nltk_data...\n",
      "[nltk_data]   Package punkt is already up-to-date!\n",
      "[nltk_data] Downloading package averaged_perceptron_tagger to\n",
      "[nltk_data]     C:\\Users\\phreb\\AppData\\Roaming\\nltk_data...\n",
      "[nltk_data]   Package averaged_perceptron_tagger is already up-to-\n",
      "[nltk_data]       date!\n",
      "[nltk_data] Downloading package stopwords to\n",
      "[nltk_data]     C:\\Users\\phreb\\AppData\\Roaming\\nltk_data...\n",
      "[nltk_data]   Package stopwords is already up-to-date!\n"
     ]
    }
   ],
   "source": [
    "import pandas as pd\n",
    "import numpy as np\n",
    "from sklearn.model_selection import train_test_split\n",
    "import matplotlib.pyplot as plt\n",
    "from sklearn.utils import resample\n",
    "import nltk\n",
    "from nltk.tokenize import word_tokenize\n",
    "from nltk.tag import pos_tag\n",
    "from nltk.corpus import stopwords\n",
    "\n",
    "# Download the necessary NLTK resources\n",
    "nltk.download('punkt')\n",
    "nltk.download('averaged_perceptron_tagger')\n",
    "nltk.download('stopwords')\n",
    "\n",
    "# Define a list of stop words\n",
    "stop_words = set(stopwords.words('english'))\n",
    "\n",
    "# Load the Amazon reviews dataset\n",
    "data_en = pd.read_pickle(r\"C:\\Users\\phreb\\Data\\data_en.pickle\")\n",
    "\n",
    "# Combine the review headline and body into a single text column\n",
    "data_en[\"Review\"] = data_en[\"review_headline\"] + \" \" + data_en[\"review_body\"]\n",
    "\n",
    "# Define the input and output data\n",
    "X = data_en[\"Review\"]\n",
    "y = data_en[\"star_rating\"]\n",
    "\n",
    "# Upsample the minority classes to balance the dataset\n",
    "rs = [resample(X[y == sr], y[y == sr], replace=False, n_samples=200000, random_state=123) for sr in [1,2,3,4,5]]\n",
    "X_list = [rs[r][0] for r in range(5)]\n",
    "y_list = [rs[r][1] for r in range(5)]\n",
    "X_us = np.hstack(X_list)\n",
    "y_us = np.hstack(y_list)\n",
    "\n",
    "# Split the data into training, validation, and test sets\n",
    "X_train, X_test_val, y_train, y_test_val = train_test_split(X_us, y_us, test_size= 0.4, random_state=42)\n",
    "X_val, X_test, y_val, y_test = train_test_split(X_test_val, y_test_val, random_state=42)\n",
    "\n",
    "# Tokenize the reviews into individual words and remove stop words\n",
    "X_train_tokens = [[word for word in word_tokenize(review) if word.lower() not in stop_words] for review in X_train]\n",
    "X_test_tokens = [[word for word in word_tokenize(review) if word.lower() not in stop_words] for review in X_test]\n",
    "\n",
    "# Perform POS tagging on the tokenized reviews\n",
    "X_train_pos = [pos_tag(tokens) for tokens in X_train_tokens]\n",
    "X_test_pos = [pos_tag(tokens) for tokens in X_test_tokens]"
   ]
  },
  {
   "cell_type": "code",
   "execution_count": null,
   "id": "177663f5",
   "metadata": {},
   "outputs": [],
   "source": [
    "from gensim.models import Word2Vec\n",
    "from sklearn.linear_model import LogisticRegression\n",
    "from sklearn.metrics import classification_report\n",
    "\n",
    "# Train word2vec model\n",
    "w2v_model = Word2Vec(X_train_tokens, vector_size=100, window=5, min_count=5, workers=4)\n",
    "#This will create a word2vec model with 100-dimensional vectors, a window size of 5\n",
    "\n",
    "# Create feature vectors\n",
    "def create_features(review_tokens, model):\n",
    "    num_features = model.vector_size\n",
    "    features = np.zeros((len(review_tokens), num_features), dtype=\"float32\")\n",
    "    for i, tokens in enumerate(review_tokens):\n",
    "        for token in tokens:\n",
    "            if token in model.wv.key_to_index:\n",
    "                features[i] += model.wv.get_vector(token)\n",
    "    return features\n",
    "\n",
    "X_train_features = create_features(X_train_tokens, w2v_model)\n",
    "X_test_features = create_features(X_test_tokens, w2v_model)\n",
    "\n",
    "# Train logistic regression model\n",
    "lr_model = LogisticRegression(max_iter=1000)\n",
    "lr_model.fit(X_train_features, y_train)\n",
    "\n",
    "# Make predictions on test set\n",
    "y_pred = lr_model.predict(X_test_features)\n",
    "\n",
    "# Evaluate model performance\n",
    "print(classification_report(y_test, y_pred))"
   ]
  },
  {
   "cell_type": "markdown",
   "id": "7513992d",
   "metadata": {},
   "source": [
    "Trying with 200k Lines takes very long for my computer. Maybe we try on someone elses? Also I did not integrate our stop-words yet and could also try a version with -1 (1-2 stars), 0 (3stars) and 1 (4-5 stars) as target variable.. accuracy with 10k lines was at around 60% already, so I think it is a step in the right direction considering LR is a rather simple model for this task."
   ]
  }
 ],
 "metadata": {
  "kernelspec": {
   "display_name": "Python 3 (ipykernel)",
   "language": "python",
   "name": "python3"
  },
  "language_info": {
   "codemirror_mode": {
    "name": "ipython",
    "version": 3
   },
   "file_extension": ".py",
   "mimetype": "text/x-python",
   "name": "python",
   "nbconvert_exporter": "python",
   "pygments_lexer": "ipython3",
   "version": "3.10.9"
  }
 },
 "nbformat": 4,
 "nbformat_minor": 5
}
