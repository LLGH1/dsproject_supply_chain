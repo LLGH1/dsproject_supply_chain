{
 "cells": [
  {
   "cell_type": "code",
   "execution_count": 13,
   "metadata": {},
   "outputs": [],
   "source": [
    "import pandas as pd\n",
    "import numpy as np\n",
    "import scipy as sp\n",
    "import matplotlib.pyplot as plt\n",
    "import transformers\n",
    "import shap\n",
    "import os\n",
    "\n",
    "\n",
    "from sklearn.model_selection import train_test_split\n",
    "import matplotlib.pyplot as plt\n",
    "from sklearn import metrics\n",
    "from sklearn.utils import resample\n",
    "import xgboost as xgb \n",
    "from sklearn.pipeline import Pipeline\n",
    "from sklearn.linear_model import LogisticRegression\n",
    "from sklearn.feature_selection import SelectPercentile\n",
    "from sklearn.model_selection import RandomizedSearchCV\n",
    "from sklearn.model_selection import GridSearchCV"
   ]
  },
  {
   "cell_type": "code",
   "execution_count": 14,
   "metadata": {},
   "outputs": [],
   "source": [
    "def assess_on_val(clf, X_val_vectorized, y_val):\n",
    "    print(\"Start predicting\")\n",
    "    predicted = clf.predict(X_val_vectorized)\n",
    "    print(\"Finished predicting\")\n",
    "    total_accuracy = metrics.accuracy_score(predicted, y_val)\n",
    "\n",
    "    accuracy_by_rating_class = {rc : metrics.accuracy_score(predicted[y_val==rc], y_val[y_val==rc]) for rc in np.unique(y_val)}\n",
    "    accuracy_by_rating_class = pd.DataFrame.from_dict(accuracy_by_rating_class, orient=\"index\")\n",
    "\n",
    "    fig = plt.figure(figsize=(20,5))\n",
    "    ax = fig.add_subplot(131)\n",
    "    accuracy_by_rating_class.sort_index().plot(kind = \"bar\", ax = ax)\n",
    "    ax.set_title(\"Accuracy per  \\nrating class\")\n",
    "    ax.axhline(y = total_accuracy, color ='r', linestyle = '--')\n",
    "    ax.get_legend().remove()\n",
    "    ax.set_ylim(0,1)\n",
    "\n",
    "    ax2 = fig.add_subplot(132)\n",
    "    pd.DataFrame({\"star_rating\": predicted}).value_counts(normalize=1).reset_index().set_index(\"star_rating\").sort_index().plot(kind=\"bar\", ax=ax2)\n",
    "    ax2.set_title(\"Percentage of \\n predicted rating class\")\n",
    "    ax2.get_legend().remove()\n",
    "    ax2.set_ylim(0,1)\n",
    "\n",
    "    ax3 = fig.add_subplot(133)\n",
    "    pd.DataFrame({\"star_rating\": y_val}).value_counts(normalize=1).reset_index().set_index(\"star_rating\").sort_index().plot(kind=\"bar\", ax=ax3)\n",
    "    ax3.set_title(\"Percentage of actual \\n rating classes in val\")\n",
    "    ax3.get_legend().remove()\n",
    "    ax3.set_ylim(0,1)    \n",
    "    fig.suptitle(str(clf._final_estimator), y=1.1)\n",
    "    \n",
    "    print(\"Global accuracy: \" + str(total_accuracy))\n",
    "    return fig"
   ]
  },
  {
   "cell_type": "code",
   "execution_count": 15,
   "metadata": {},
   "outputs": [],
   "source": [
    "os.getcwd()\n",
    "os.chdir(r\"D:\\sep22_10_supply_chain\\data\")\n",
    "data_en = pd.read_pickle(r\"data_en.pickle\")"
   ]
  },
  {
   "cell_type": "code",
   "execution_count": 4,
   "metadata": {},
   "outputs": [],
   "source": [
    "X = data_en[\"processed_reviews\"]\n",
    "y = data_en[\"star_rating\"]\n",
    "y2 = data_en[\"review_body\"]"
   ]
  },
  {
   "cell_type": "code",
   "execution_count": 5,
   "metadata": {},
   "outputs": [],
   "source": [
    "rs = [resample(X[y == sr], y[y == sr], replace=False, n_samples=int(np.floor((X[y == 2].shape[0])*0.25)), random_state=123) for sr in [1,2,3,4,5]]\n",
    "\n",
    "X_list = [rs[r][0] for r in range(5)]\n",
    "y_list = [rs[r][1] for r in range(5)]\n",
    "\n",
    "X_us = np.hstack(X_list)\n",
    "y_us = np.hstack(y_list)"
   ]
  },
  {
   "cell_type": "code",
   "execution_count": 6,
   "metadata": {},
   "outputs": [],
   "source": [
    "data = pd.DataFrame({'text':data_en['review_body'],'emotion':data_en['star_rating']})"
   ]
  },
  {
   "cell_type": "code",
   "execution_count": 16,
   "metadata": {},
   "outputs": [
    {
     "name": "stderr",
     "output_type": "stream",
     "text": [
      "'HTTPSConnectionPool(host='huggingface.co', port=443): Max retries exceeded with url: /nateraw/bert-base-uncased-emotion/resolve/main/tokenizer_config.json (Caused by ConnectTimeoutError(<urllib3.connection.HTTPSConnection object at 0x000001D13E352580>, 'Connection to huggingface.co timed out. (connect timeout=10)'))' thrown while requesting HEAD https://huggingface.co/nateraw/bert-base-uncased-emotion/resolve/main/tokenizer_config.json\n"
     ]
    }
   ],
   "source": [
    "#https://shap.readthedocs.io/en/latest/example_notebooks/text_examples/sentiment_analysis/Emotion%20classification%20multiclass%20example.html\n",
    "# load the model and tokenizer\n",
    "os.environ[\"CURL_CA_BUNDLE\"]=\"\"\n",
    "tokenizer = transformers.AutoTokenizer.from_pretrained(\"nateraw/bert-base-uncased-emotion\", use_fast=True)\n",
    "model = transformers.AutoModelForSequenceClassification.from_pretrained(\"nateraw/bert-base-uncased-emotion\").to(\"cpu\")\n",
    "\n",
    "# build a pipeline object to do predictions\n",
    "pred = transformers.pipeline(\"text-classification\", model=model, tokenizer=tokenizer, device=0, return_all_scores=True)"
   ]
  },
  {
   "cell_type": "code",
   "execution_count": null,
   "metadata": {},
   "outputs": [],
   "source": []
  }
 ],
 "metadata": {
  "kernelspec": {
   "display_name": "py38",
   "language": "python",
   "name": "python3"
  },
  "language_info": {
   "codemirror_mode": {
    "name": "ipython",
    "version": 3
   },
   "file_extension": ".py",
   "mimetype": "text/x-python",
   "name": "python",
   "nbconvert_exporter": "python",
   "pygments_lexer": "ipython3",
   "version": "3.8.3"
  },
  "orig_nbformat": 4,
  "vscode": {
   "interpreter": {
    "hash": "99db2566da6433d2def8e2fc6bb89f050cfe29c82cf2304e4b70eb18da6471d0"
   }
  }
 },
 "nbformat": 4,
 "nbformat_minor": 2
}
