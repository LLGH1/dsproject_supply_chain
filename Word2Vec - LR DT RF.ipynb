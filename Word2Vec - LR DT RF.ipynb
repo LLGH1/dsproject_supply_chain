{
 "cells": [
  {
   "cell_type": "code",
   "execution_count": 1,
   "id": "f277522c",
   "metadata": {},
   "outputs": [
    {
     "name": "stderr",
     "output_type": "stream",
     "text": [
      "[nltk_data] Downloading package punkt to\n",
      "[nltk_data]     C:\\Users\\phreb\\AppData\\Roaming\\nltk_data...\n",
      "[nltk_data]   Package punkt is already up-to-date!\n",
      "[nltk_data] Downloading package averaged_perceptron_tagger to\n",
      "[nltk_data]     C:\\Users\\phreb\\AppData\\Roaming\\nltk_data...\n",
      "[nltk_data]   Package averaged_perceptron_tagger is already up-to-\n",
      "[nltk_data]       date!\n",
      "[nltk_data] Downloading package stopwords to\n",
      "[nltk_data]     C:\\Users\\phreb\\AppData\\Roaming\\nltk_data...\n",
      "[nltk_data]   Package stopwords is already up-to-date!\n"
     ]
    },
    {
     "name": "stdout",
     "output_type": "stream",
     "text": [
      "(200000,)\n",
      "(200000,)\n"
     ]
    }
   ],
   "source": [
    "import pandas as pd\n",
    "import numpy as np\n",
    "from sklearn.model_selection import train_test_split\n",
    "import matplotlib.pyplot as plt\n",
    "from sklearn.utils import resample\n",
    "import nltk\n",
    "from nltk.tokenize import word_tokenize\n",
    "from nltk.tag import pos_tag\n",
    "from nltk.corpus import stopwords\n",
    "\n",
    "# Download the necessary NLTK resources\n",
    "nltk.download('punkt')\n",
    "nltk.download('averaged_perceptron_tagger')\n",
    "nltk.download('stopwords')\n",
    "\n",
    "# Define a list of stop words\n",
    "stop_words = set(stopwords.words('english'))\n",
    "\n",
    "# Load the Amazon reviews dataset\n",
    "data_en = pd.read_pickle(r\"C:\\Users\\phreb\\Data\\data_en.pickle\")\n",
    "\n",
    "# Combine the review headline and body into a single text column\n",
    "data_en[\"Review\"] = data_en[\"review_headline\"] + \" \" + data_en[\"review_body\"]\n",
    "\n",
    "# Define the input and output data\n",
    "X = data_en[\"Review\"]\n",
    "y = data_en[\"star_rating\"]\n",
    "\n",
    "# Upsample the minority classes to balance the dataset\n",
    "rs = [resample(X[y == sr], y[y == sr], replace=False, n_samples=40000, random_state=123) for sr in [1,2,3,4,5]]\n",
    "X_list = [rs[r][0] for r in range(5)]\n",
    "y_list = [rs[r][1] for r in range(5)]\n",
    "X_us = np.hstack(X_list)\n",
    "y_us = np.hstack(y_list)\n",
    "\n",
    "# Split the data into training, validation, and test sets\n",
    "X_train, X_test_val, y_train, y_test_val = train_test_split(X_us, y_us, test_size= 0.4, random_state=42)\n",
    "X_val, X_test, y_val, y_test = train_test_split(X_test_val, y_test_val, random_state=42)\n",
    "\n",
    "print(X_us.shape)\n",
    "print(y_us.shape)"
   ]
  },
  {
   "cell_type": "code",
   "execution_count": 3,
   "id": "cbddc66b",
   "metadata": {},
   "outputs": [],
   "source": [
    "def preprocess_text(text):\n",
    "    if not isinstance(text, str):\n",
    "        text = str(text)\n",
    "    # Tokenize the text into words\n",
    "    tokens = word_tokenize(text)\n",
    "    # Remove stop words\n",
    "    tokens = [token for token in tokens if token.lower() not in stop_words]\n",
    "    # Convert to lowercase\n",
    "    tokens = [token.lower() for token in tokens]\n",
    "    return tokens\n",
    "\n",
    "X_train_tok = [preprocess_text(text) for text in X_train]\n",
    "X_val_tok = [preprocess_text(text) for text in X_val]\n",
    "X_test_tok = [preprocess_text(text) for text in X_test]"
   ]
  },
  {
   "cell_type": "markdown",
   "id": "dd93a321",
   "metadata": {},
   "source": [
    "### Perform POS tagging on the tokenized reviews\n",
    "> X_train_pos = [pos_tag(tokens) for tokens in X_train_tokens]\n",
    "\n",
    "> X_test_pos = [pos_tag(tokens) for tokens in X_test_tokens]"
   ]
  },
  {
   "cell_type": "markdown",
   "id": "6812b61b",
   "metadata": {},
   "source": [
    "### Word2Vec and Linear Regression Model"
   ]
  },
  {
   "cell_type": "code",
   "execution_count": 5,
   "id": "177663f5",
   "metadata": {},
   "outputs": [
    {
     "name": "stdout",
     "output_type": "stream",
     "text": [
      "              precision    recall  f1-score   support\n",
      "\n",
      "           1       0.59      0.76      0.67      3945\n",
      "           2       0.45      0.33      0.38      4006\n",
      "           3       0.41      0.35      0.38      3925\n",
      "           4       0.45      0.34      0.39      4000\n",
      "           5       0.54      0.74      0.62      4124\n",
      "\n",
      "    accuracy                           0.51     20000\n",
      "   macro avg       0.49      0.50      0.49     20000\n",
      "weighted avg       0.49      0.51      0.49     20000\n",
      "\n"
     ]
    },
    {
     "name": "stderr",
     "output_type": "stream",
     "text": [
      "C:\\Users\\phreb\\anaconda3\\lib\\site-packages\\sklearn\\linear_model\\_logistic.py:458: ConvergenceWarning: lbfgs failed to converge (status=1):\n",
      "STOP: TOTAL NO. of ITERATIONS REACHED LIMIT.\n",
      "\n",
      "Increase the number of iterations (max_iter) or scale the data as shown in:\n",
      "    https://scikit-learn.org/stable/modules/preprocessing.html\n",
      "Please also refer to the documentation for alternative solver options:\n",
      "    https://scikit-learn.org/stable/modules/linear_model.html#logistic-regression\n",
      "  n_iter_i = _check_optimize_result(\n"
     ]
    }
   ],
   "source": [
    "from gensim.models import Word2Vec\n",
    "from sklearn.linear_model import LogisticRegression\n",
    "from sklearn.metrics import classification_report\n",
    "\n",
    "# Train word2vec model\n",
    "w2v_model = Word2Vec(X_train_tok, vector_size=100, window=5, min_count=5, workers=4)\n",
    "#This will create a word2vec model with 100-dimensional vectors, a window size of 5\n",
    "\n",
    "# Create feature vectors\n",
    "def create_features(review_tokens, model):\n",
    "    num_features = model.vector_size\n",
    "    features = np.zeros((len(review_tokens), num_features), dtype=\"float32\")\n",
    "    for i, tokens in enumerate(review_tokens):\n",
    "        for token in tokens:\n",
    "            if token in model.wv.key_to_index:\n",
    "                features[i] += model.wv.get_vector(token)\n",
    "    return features\n",
    "\n",
    "X_train_features = create_features(X_train_tok, w2v_model)\n",
    "X_test_features = create_features(X_test_tok, w2v_model)\n",
    "\n",
    "# Train logistic regression model\n",
    "lr_model = LogisticRegression(max_iter=1000)\n",
    "lr_model.fit(X_train_features, y_train)\n",
    "\n",
    "# Make predictions on test set\n",
    "y_pred = lr_model.predict(X_test_features)\n",
    "\n",
    "# Evaluate model performance\n",
    "print(classification_report(y_test, y_pred))"
   ]
  },
  {
   "cell_type": "markdown",
   "id": "5ffd7d8a",
   "metadata": {},
   "source": [
    "### Decision Tree Model"
   ]
  },
  {
   "cell_type": "code",
   "execution_count": 6,
   "id": "48fce5bf",
   "metadata": {},
   "outputs": [
    {
     "name": "stdout",
     "output_type": "stream",
     "text": [
      "              precision    recall  f1-score   support\n",
      "\n",
      "           1       0.44      0.45      0.45      3945\n",
      "           2       0.29      0.29      0.29      4006\n",
      "           3       0.27      0.27      0.27      3925\n",
      "           4       0.31      0.31      0.31      4000\n",
      "           5       0.46      0.45      0.45      4124\n",
      "\n",
      "    accuracy                           0.35     20000\n",
      "   macro avg       0.35      0.35      0.35     20000\n",
      "weighted avg       0.36      0.35      0.35     20000\n",
      "\n"
     ]
    }
   ],
   "source": [
    "from sklearn.tree import DecisionTreeClassifier\n",
    "\n",
    "# Train decision tree model\n",
    "dt_model = DecisionTreeClassifier()\n",
    "dt_model.fit(X_train_features, y_train)\n",
    "\n",
    "# Make predictions on test set\n",
    "y_pred_dt = dt_model.predict(X_test_features)\n",
    "\n",
    "# Evaluate model performance\n",
    "print(classification_report(y_test, y_pred_dt))"
   ]
  },
  {
   "cell_type": "markdown",
   "id": "020148bc",
   "metadata": {},
   "source": [
    "### Random Forest Model"
   ]
  },
  {
   "cell_type": "code",
   "execution_count": 8,
   "id": "491befc8",
   "metadata": {},
   "outputs": [
    {
     "name": "stdout",
     "output_type": "stream",
     "text": [
      "              precision    recall  f1-score   support\n",
      "\n",
      "           1       0.55      0.68      0.61      3945\n",
      "           2       0.38      0.40      0.39      4006\n",
      "           3       0.36      0.32      0.34      3925\n",
      "           4       0.42      0.39      0.41      4000\n",
      "           5       0.63      0.58      0.60      4124\n",
      "\n",
      "    accuracy                           0.47     20000\n",
      "   macro avg       0.47      0.47      0.47     20000\n",
      "weighted avg       0.47      0.47      0.47     20000\n",
      "\n"
     ]
    }
   ],
   "source": [
    "from sklearn.ensemble import RandomForestClassifier\n",
    "\n",
    "# Train random forest classifier\n",
    "rf_model = RandomForestClassifier(n_estimators=100, random_state=42)\n",
    "rf_model.fit(X_train_features, y_train)\n",
    "\n",
    "# Make predictions on test set\n",
    "y_pred = rf_model.predict(X_test_features)\n",
    "\n",
    "# Evaluate model performance\n",
    "print(classification_report(y_test, y_pred))"
   ]
  },
  {
   "cell_type": "markdown",
   "id": "ad04d9bd",
   "metadata": {},
   "source": [
    "### Decision Tree Tuning"
   ]
  },
  {
   "cell_type": "code",
   "execution_count": null,
   "id": "439383ba",
   "metadata": {},
   "outputs": [],
   "source": [
    "from sklearn.model_selection import GridSearchCV\n",
    "\n",
    "# Define the hyperparameters to tune\n",
    "param_grid = {\n",
    "    'criterion': ['gini', 'entropy'],\n",
    "    'max_depth': [None, 10, 20, 30, 40, 50],\n",
    "    'min_samples_split': [2, 5, 10, 20, 30],\n",
    "    'min_samples_leaf': [1, 2, 4, 8, 16],\n",
    "}\n",
    "\n",
    "# Create a decision tree classifier object\n",
    "dt_model = DecisionTreeClassifier()\n",
    "\n",
    "# Create a GridSearchCV object\n",
    "grid_search_dt = GridSearchCV(dt_model, param_grid, cv=5, n_jobs=-1)\n",
    "\n",
    "# Fit the GridSearchCV object to the training data\n",
    "grid_search_dt.fit(X_train_features, y_train)\n",
    "\n",
    "# Print the best hyperparameters\n",
    "print('Best hyperparameters:', grid_search_dt.best_params_)\n",
    "\n",
    "# Use the best hyperparameters to create the final model\n",
    "dt_model_final = DecisionTreeClassifier(**grid_search_dt.best_params_)\n",
    "dt_model_final.fit(X_train_features, y_train)"
   ]
  },
  {
   "cell_type": "markdown",
   "id": "f27e0a01",
   "metadata": {},
   "source": [
    "### Logistic Regression Tuning"
   ]
  },
  {
   "cell_type": "code",
   "execution_count": null,
   "id": "b742cd88",
   "metadata": {},
   "outputs": [],
   "source": [
    "# Define the hyperparameters to tune\n",
    "param_grid = {\n",
    "    'penalty': ['l1', 'l2', 'elasticnet', 'none'],\n",
    "    'C': [0.01, 0.1, 1, 10, 100],\n",
    "    'solver': ['newton-cg', 'lbfgs', 'liblinear', 'sag', 'saga'],\n",
    "    'max_iter': [100, 500, 1000, 5000],\n",
    "}\n",
    "\n",
    "# Create a logistic regression object\n",
    "lr_model = LogisticRegression()\n",
    "\n",
    "# Create a GridSearchCV object\n",
    "grid_search_lr = GridSearchCV(lr_model, param_grid, cv=5, n_jobs=-1)\n",
    "\n",
    "# Fit the GridSearchCV object to the training data\n",
    "grid_search_lr.fit(X_train_features, y_train)\n",
    "\n",
    "# Print the best hyperparameters\n",
    "print('Best hyperparameters:', grid_search_lr.best_params_)\n",
    "\n",
    "# Use the best hyperparameters to create the final model\n",
    "lr_model_final = LogisticRegression(**grid_search_lr.best_params_)\n",
    "lr_model_final.fit(X_train_features, y_train)"
   ]
  },
  {
   "cell_type": "markdown",
   "id": "6e4968a3",
   "metadata": {},
   "source": [
    "### Random Forest Tuning"
   ]
  },
  {
   "cell_type": "code",
   "execution_count": null,
   "id": "e0d31b18",
   "metadata": {},
   "outputs": [],
   "source": [
    "# Define the hyperparameters to tune\n",
    "param_grid = {\n",
    "    'n_estimators': [100, 200, 300, 400, 500],\n",
    "    'criterion': ['gini', 'entropy'],\n",
    "    'max_depth': [None, 10, 20, 30, 40, 50],\n",
    "    'min_samples_split': [2, 5, 10, 20, 30],\n",
    "    'min_samples_leaf': [1, 2, 4, 8, 16],\n",
    "}\n",
    "\n",
    "# Create a random forest classifier object\n",
    "rf_model = RandomForestClassifier()\n",
    "\n",
    "# Create a GridSearchCV object\n",
    "grid_search_rf = GridSearchCV(rf_model, param_grid, cv=5, n_jobs=-1)\n",
    "\n",
    "# Fit the GridSearchCV object to the training data\n",
    "grid_search_rf.fit(X_train_features, y_train)\n",
    "\n",
    "# Print the best hyperparameters\n",
    "print('Best hyperparameters:', grid_search_rf.best_params_)"
   ]
  },
  {
   "cell_type": "code",
   "execution_count": null,
   "id": "c6f9aa80",
   "metadata": {},
   "outputs": [],
   "source": [
    "#data_en.to_csv(\"path\", compression='zip')\n",
    "#use stopwords from Sebastian\n",
    "#interpret results"
   ]
  }
 ],
 "metadata": {
  "kernelspec": {
   "display_name": "Python 3 (ipykernel)",
   "language": "python",
   "name": "python3"
  },
  "language_info": {
   "codemirror_mode": {
    "name": "ipython",
    "version": 3
   },
   "file_extension": ".py",
   "mimetype": "text/x-python",
   "name": "python",
   "nbconvert_exporter": "python",
   "pygments_lexer": "ipython3",
   "version": "3.10.9"
  }
 },
 "nbformat": 4,
 "nbformat_minor": 5
}
