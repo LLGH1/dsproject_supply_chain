{
 "cells": [
  {
   "cell_type": "code",
   "execution_count": 1,
   "metadata": {},
   "outputs": [],
   "source": [
    "import pandas as pd\n",
    "import numpy as np\n",
    "import os\n",
    "from sklearn.feature_extraction.text import CountVectorizer\n",
    "from sklearn.feature_extraction.text import TfidfTransformer\n",
    "from sklearn.naive_bayes import MultinomialNB\n",
    "from sklearn.neighbors import KNeighborsClassifier\n",
    "from sklearn.feature_selection import VarianceThreshold\n",
    "\n",
    "from sklearn.model_selection import train_test_split\n",
    "import matplotlib.pyplot as plt\n",
    "from sklearn import metrics\n",
    "from sklearn.utils import resample\n",
    "import xgboost as xgb \n",
    "from sklearn.pipeline import Pipeline\n",
    "from sklearn.linear_model import LogisticRegression\n",
    "from sklearn.feature_selection import SelectPercentile\n",
    "from sklearn.model_selection import RandomizedSearchCV\n",
    "from sklearn.model_selection import GridSearchCV\n",
    "import shap\n",
    "import spacy\n"
   ]
  },
  {
   "cell_type": "code",
   "execution_count": 7,
   "metadata": {},
   "outputs": [],
   "source": [
    "data_en = pd.read_pickle(r\"D:\\sep22_10_supply_chain\\data\" + r\"\\data_en2.pickle\")"
   ]
  },
  {
   "cell_type": "code",
   "execution_count": 3,
   "metadata": {},
   "outputs": [],
   "source": [
    "\n",
    "nlp = spacy.load(\"en_core_web_lg\")"
   ]
  },
  {
   "cell_type": "code",
   "execution_count": 6,
   "metadata": {},
   "outputs": [],
   "source": [
    "def lemmatize_and_pos_tag(review):\n",
    "    doc = nlp(review)\n",
    "    lst = []\n",
    "    for tok in doc:\n",
    "        if (tok.pos != 97 ) and (tok.pos_ != \"SPACE\") and (tok.is_alpha or tok.pos_== \"PART\") and (tok.ent_type_ == ''):\n",
    "           lst.append(tok.lemma_ + \"_\" + tok.pos_)\n",
    "    return \" \".join(lst)\n",
    "    "
   ]
  },
  {
   "cell_type": "code",
   "execution_count": 5,
   "metadata": {},
   "outputs": [
    {
     "data": {
      "text/plain": [
       "Index(['marketplace', 'customer_id', 'review_id', 'product_id',\n",
       "       'product_parent', 'product_title', 'product_category', 'star_rating',\n",
       "       'helpful_votes', 'total_votes', 'vine', 'verified_purchase',\n",
       "       'review_headline', 'review_body', 'review_date', 'language',\n",
       "       'processed_reviews'],\n",
       "      dtype='object')"
      ]
     },
     "execution_count": 5,
     "metadata": {},
     "output_type": "execute_result"
    }
   ],
   "source": [
    "data_en.columns"
   ]
  },
  {
   "cell_type": "code",
   "execution_count": 9,
   "metadata": {},
   "outputs": [],
   "source": [
    "data_en[\"head_lem_pos_ner_rem\"] = data_en.review_headline.apply(lambda x: lemmatize_and_pos_tag(str(x))) \n",
    "data_en.to_pickle(r\"D:\\sep22_10_supply_chain\\data\\data_en3.pickle\")"
   ]
  },
  {
   "cell_type": "code",
   "execution_count": 115,
   "metadata": {},
   "outputs": [
    {
     "data": {
      "text/plain": [
       "'use_VERB this_PRON for_ADP on_ADP my_PRON mac_PROPN an_DET amazing_ADJ joystick_NOUN I_PRON especially_ADV love_VERB that_PRON you_PRON can_AUX twist_VERB the_DET stick_NOUN for_ADP different_ADJ movement_NOUN binding_NOUN as_ADV well_ADV as_ADP move_VERB it_PRON in_ADP the_DET normal_ADJ way_NOUN'"
      ]
     },
     "execution_count": 115,
     "metadata": {},
     "output_type": "execute_result"
    }
   ],
   "source": [
    "lemmatize_and_pos_tag(data_en.review_body[0])"
   ]
  },
  {
   "cell_type": "code",
   "execution_count": 116,
   "metadata": {},
   "outputs": [],
   "source": [
    "data_en[\"lem_pos_ner_rem\"] = data_en.review_body.apply(lambda x: lemmatize_and_pos_tag(x)) "
   ]
  },
  {
   "cell_type": "code",
   "execution_count": null,
   "metadata": {},
   "outputs": [],
   "source": [
    "data_en.to_pickle(r\"D:\\sep22_10_supply_chain\\data\\data_en2.pickle\")"
   ]
  },
  {
   "cell_type": "code",
   "execution_count": 111,
   "metadata": {},
   "outputs": [
    {
     "name": "stdout",
     "output_type": "stream",
     "text": [
      "0.0\n"
     ]
    }
   ],
   "source": [
    "doc = nlp(data_en.review_body[0])\n",
    "print(doc.sentiment)"
   ]
  },
  {
   "cell_type": "code",
   "execution_count": 107,
   "metadata": {},
   "outputs": [
    {
     "data": {
      "text/plain": [
       "\"Loved it,  I didn't even realise it was a gaming mouse,  I typed in &#34;silent mouse&#34; and selected this one. It is perfect and looks pretty cool as well. Now my boyfriend's gaming is wonderfully comfortably silent :) . Think I might just get one for myself.\""
      ]
     },
     "execution_count": 107,
     "metadata": {},
     "output_type": "execute_result"
    }
   ],
   "source": [
    "data_en.review_body[1]"
   ]
  },
  {
   "cell_type": "code",
   "execution_count": 112,
   "metadata": {},
   "outputs": [
    {
     "data": {
      "text/html": [
       "<span class=\"tex2jax_ignore\"><div class=\"entities\" style=\"line-height: 2.5; direction: ltr\">Used this for \n",
       "<mark class=\"entity\" style=\"background: #7aecec; padding: 0.45em 0.6em; margin: 0 0.25em; line-height: 1; border-radius: 0.35em;\">\n",
       "    Elite Dangerous\n",
       "    <span style=\"font-size: 0.8em; font-weight: bold; line-height: 1; border-radius: 0.35em; vertical-align: middle; margin-left: 0.5rem\">ORG</span>\n",
       "</mark>\n",
       " on my mac, an amazing joystick. I especially love that you can twist the stick for different movement bindings as well as move it in the normal way.</div></span>"
      ],
      "text/plain": [
       "<IPython.core.display.HTML object>"
      ]
     },
     "metadata": {},
     "output_type": "display_data"
    }
   ],
   "source": [
    "spacy.displacy.render(doc,\n",
    "                      style=\"ent\",                      \n",
    "                      jupyter=True)"
   ]
  },
  {
   "cell_type": "code",
   "execution_count": 113,
   "metadata": {},
   "outputs": [
    {
     "name": "stdout",
     "output_type": "stream",
     "text": [
      "Used VERB ROOT  use\n",
      "this PRON dobj  this\n",
      "for ADP prep  for\n",
      "Elite PROPN compound ORG Elite\n",
      "Dangerous PROPN pobj ORG Dangerous\n",
      "on ADP prep  on\n",
      "my PRON poss  my\n",
      "mac PROPN pobj  mac\n",
      ", PUNCT punct  ,\n",
      "an DET det  an\n",
      "amazing ADJ amod  amazing\n",
      "joystick NOUN appos  joystick\n",
      ". PUNCT punct  .\n",
      "I PRON nsubj  I\n",
      "especially ADV advmod  especially\n",
      "love VERB ROOT  love\n",
      "that PRON mark  that\n",
      "you PRON nsubj  you\n",
      "can AUX aux  can\n",
      "twist VERB ccomp  twist\n",
      "the DET det  the\n",
      "stick NOUN dobj  stick\n",
      "for ADP prep  for\n",
      "different ADJ amod  different\n",
      "movement NOUN compound  movement\n",
      "bindings NOUN pobj  binding\n",
      "as ADV advmod  as\n",
      "well ADV advmod  well\n",
      "as ADP cc  as\n",
      "move VERB conj  move\n",
      "it PRON dobj  it\n",
      "in ADP prep  in\n",
      "the DET det  the\n",
      "normal ADJ amod  normal\n",
      "way NOUN pobj  way\n",
      ". PUNCT punct  .\n"
     ]
    }
   ],
   "source": [
    "tl = []\n",
    "for token in doc:\n",
    "    tl.append(token)\n",
    "    print(token.text, token.pos_, token.dep_, token.ent_type_, token.lemma_)"
   ]
  },
  {
   "cell_type": "code",
   "execution_count": 51,
   "metadata": {},
   "outputs": [
    {
     "data": {
      "text/plain": [
       "(Elite Dangerous,)"
      ]
     },
     "execution_count": 51,
     "metadata": {},
     "output_type": "execute_result"
    }
   ],
   "source": [
    "a = tl[3]\n",
    "\n",
    "doc.ents"
   ]
  },
  {
   "cell_type": "code",
   "execution_count": 52,
   "metadata": {},
   "outputs": [
    {
     "data": {
      "text/plain": [
       "['_',\n",
       " '__bytes__',\n",
       " '__class__',\n",
       " '__delattr__',\n",
       " '__dir__',\n",
       " '__doc__',\n",
       " '__eq__',\n",
       " '__format__',\n",
       " '__ge__',\n",
       " '__getattribute__',\n",
       " '__getitem__',\n",
       " '__gt__',\n",
       " '__hash__',\n",
       " '__init__',\n",
       " '__init_subclass__',\n",
       " '__iter__',\n",
       " '__le__',\n",
       " '__len__',\n",
       " '__lt__',\n",
       " '__ne__',\n",
       " '__new__',\n",
       " '__pyx_vtable__',\n",
       " '__reduce__',\n",
       " '__reduce_ex__',\n",
       " '__repr__',\n",
       " '__setattr__',\n",
       " '__setstate__',\n",
       " '__sizeof__',\n",
       " '__str__',\n",
       " '__subclasshook__',\n",
       " '__unicode__',\n",
       " '_bulk_merge',\n",
       " '_context',\n",
       " '_get_array_attrs',\n",
       " '_realloc',\n",
       " '_vector',\n",
       " '_vector_norm',\n",
       " 'cats',\n",
       " 'char_span',\n",
       " 'copy',\n",
       " 'count_by',\n",
       " 'doc',\n",
       " 'ents',\n",
       " 'extend_tensor',\n",
       " 'from_array',\n",
       " 'from_bytes',\n",
       " 'from_dict',\n",
       " 'from_disk',\n",
       " 'from_docs',\n",
       " 'from_json',\n",
       " 'get_extension',\n",
       " 'get_lca_matrix',\n",
       " 'has_annotation',\n",
       " 'has_extension',\n",
       " 'has_unknown_spaces',\n",
       " 'has_vector',\n",
       " 'is_nered',\n",
       " 'is_parsed',\n",
       " 'is_sentenced',\n",
       " 'is_tagged',\n",
       " 'lang',\n",
       " 'lang_',\n",
       " 'mem',\n",
       " 'noun_chunks',\n",
       " 'noun_chunks_iterator',\n",
       " 'remove_extension',\n",
       " 'retokenize',\n",
       " 'sentiment',\n",
       " 'sents',\n",
       " 'set_ents',\n",
       " 'set_extension',\n",
       " 'similarity',\n",
       " 'spans',\n",
       " 'tensor',\n",
       " 'text',\n",
       " 'text_with_ws',\n",
       " 'to_array',\n",
       " 'to_bytes',\n",
       " 'to_dict',\n",
       " 'to_disk',\n",
       " 'to_json',\n",
       " 'to_utf8_array',\n",
       " 'user_data',\n",
       " 'user_hooks',\n",
       " 'user_span_hooks',\n",
       " 'user_token_hooks',\n",
       " 'vector',\n",
       " 'vector_norm',\n",
       " 'vocab']"
      ]
     },
     "execution_count": 52,
     "metadata": {},
     "output_type": "execute_result"
    }
   ],
   "source": [
    "dir(doc)\n"
   ]
  },
  {
   "cell_type": "code",
   "execution_count": 81,
   "metadata": {},
   "outputs": [
    {
     "data": {
      "text/plain": [
       "True"
      ]
     },
     "execution_count": 81,
     "metadata": {},
     "output_type": "execute_result"
    }
   ],
   "source": [
    "tl[0].ent_id_ == ''\n"
   ]
  },
  {
   "cell_type": "code",
   "execution_count": 96,
   "metadata": {},
   "outputs": [
    {
     "name": "stdout",
     "output_type": "stream",
     "text": [
      "this_PRON 95_ - \n",
      "is_AUX 87_ - \n",
      "great_ADJ 84_ - \n",
      "._PUNCT 97_ - \n",
      "I_PRON 95_ - \n",
      "like_VERB 100_ - \n",
      "it_PRON 95_ - \n",
      "._PUNCT 97_ - \n",
      "This_PRON 95_ - \n",
      "tastes_VERB 100_ - \n",
      "like_ADP 85_ - \n",
      "shit_NOUN 92_ - \n",
      ",_PUNCT 97_ - \n",
      "I_PRON 95_ - \n",
      "played_VERB 100_ - \n",
      "Civilization_PROPN 96_ - \n",
      "a_DET 90_ - \n",
      "lot_NOUN 92_ - \n",
      "!_PUNCT 97_ - \n",
      "Yes_INTJ 91_ - \n",
      "?_PUNCT 97_ - \n"
     ]
    }
   ],
   "source": [
    "test = nlp(\"this is great. I like it. This tastes like shit, I played Civilization a lot! Yes?\")\n",
    "for t in test:\n",
    "    print(t.text + \"_\" + str(t.pos_) + \" \" + str(t.pos) + \"_\" + t.ent_id_ + \" - \")"
   ]
  },
  {
   "cell_type": "code",
   "execution_count": 57,
   "metadata": {},
   "outputs": [
    {
     "name": "stdout",
     "output_type": "stream",
     "text": [
      "Used this for Elite Dangerous on my mac, an amazing joystick.\n",
      "I especially love that you can twist the stick for different movement bindings as well as move it in the normal way.\n"
     ]
    }
   ],
   "source": [
    "for x in doc.sents:\n",
    "    print(x)"
   ]
  },
  {
   "cell_type": "code",
   "execution_count": 59,
   "metadata": {},
   "outputs": [
    {
     "name": "stdout",
     "output_type": "stream",
     "text": [
      "Used this for Elite Dangerous on my mac, an amazing joystick. I especially love that you can twist the stick for different movement bindings as well as move it in the normal way.\n"
     ]
    }
   ],
   "source": [
    "print(doc.text_with_ws)"
   ]
  },
  {
   "cell_type": "code",
   "execution_count": null,
   "metadata": {},
   "outputs": [],
   "source": []
  }
 ],
 "metadata": {
  "kernelspec": {
   "display_name": "py38",
   "language": "python",
   "name": "python3"
  },
  "language_info": {
   "codemirror_mode": {
    "name": "ipython",
    "version": 3
   },
   "file_extension": ".py",
   "mimetype": "text/x-python",
   "name": "python",
   "nbconvert_exporter": "python",
   "pygments_lexer": "ipython3",
   "version": "3.8.16"
  },
  "orig_nbformat": 4,
  "vscode": {
   "interpreter": {
    "hash": "99db2566da6433d2def8e2fc6bb89f050cfe29c82cf2304e4b70eb18da6471d0"
   }
  }
 },
 "nbformat": 4,
 "nbformat_minor": 2
}
