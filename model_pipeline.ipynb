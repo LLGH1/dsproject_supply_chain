{
 "cells": [
  {
   "cell_type": "code",
   "execution_count": 39,
   "metadata": {},
   "outputs": [],
   "source": [
    "import pandas as pd\n",
    "import os\n",
    "from sklearn.feature_extraction.text import CountVectorizer\n",
    "from sklearn.feature_extraction.text import TfidfTransformer\n",
    "from sklearn.naive_bayes import MultinomialNB\n",
    "from sklearn.neighbors import KNeighborsClassifier\n",
    "\n",
    "from sklearn.model_selection import train_test_split\n",
    "import matplotlib.pyplot as plt\n",
    "from sklearn import metrics\n"
   ]
  },
  {
   "attachments": {},
   "cell_type": "markdown",
   "metadata": {},
   "source": [
    "# Load saved data"
   ]
  },
  {
   "cell_type": "code",
   "execution_count": 2,
   "metadata": {},
   "outputs": [],
   "source": [
    "os.getcwd()\n",
    "os.chdir(r\"D:\\sep22_10_supply_chain\\data\")"
   ]
  },
  {
   "cell_type": "code",
   "execution_count": 3,
   "metadata": {},
   "outputs": [],
   "source": [
    "data_en = pd.read_pickle(r\"data_en.pickle\")"
   ]
  },
  {
   "cell_type": "code",
   "execution_count": 4,
   "metadata": {},
   "outputs": [
    {
     "data": {
      "text/html": [
       "<div>\n",
       "<style scoped>\n",
       "    .dataframe tbody tr th:only-of-type {\n",
       "        vertical-align: middle;\n",
       "    }\n",
       "\n",
       "    .dataframe tbody tr th {\n",
       "        vertical-align: top;\n",
       "    }\n",
       "\n",
       "    .dataframe thead th {\n",
       "        text-align: right;\n",
       "    }\n",
       "</style>\n",
       "<table border=\"1\" class=\"dataframe\">\n",
       "  <thead>\n",
       "    <tr style=\"text-align: right;\">\n",
       "      <th></th>\n",
       "      <th>marketplace</th>\n",
       "      <th>customer_id</th>\n",
       "      <th>review_id</th>\n",
       "      <th>product_id</th>\n",
       "      <th>product_parent</th>\n",
       "      <th>product_title</th>\n",
       "      <th>product_category</th>\n",
       "      <th>star_rating</th>\n",
       "      <th>helpful_votes</th>\n",
       "      <th>total_votes</th>\n",
       "      <th>vine</th>\n",
       "      <th>verified_purchase</th>\n",
       "      <th>review_headline</th>\n",
       "      <th>review_body</th>\n",
       "      <th>review_date</th>\n",
       "      <th>language</th>\n",
       "      <th>processed_reviews</th>\n",
       "    </tr>\n",
       "  </thead>\n",
       "  <tbody>\n",
       "    <tr>\n",
       "      <th>0</th>\n",
       "      <td>US</td>\n",
       "      <td>12039526</td>\n",
       "      <td>RTIS3L2M1F5SM</td>\n",
       "      <td>B001CXYMFS</td>\n",
       "      <td>737716809</td>\n",
       "      <td>Thrustmaster T-Flight Hotas X Flight Stick</td>\n",
       "      <td>Video Games</td>\n",
       "      <td>5</td>\n",
       "      <td>0</td>\n",
       "      <td>0</td>\n",
       "      <td>N</td>\n",
       "      <td>Y</td>\n",
       "      <td>an amazing joystick. I especially love that yo...</td>\n",
       "      <td>Used this for Elite Dangerous on my mac, an am...</td>\n",
       "      <td>2015-08-31</td>\n",
       "      <td>EN</td>\n",
       "      <td>use elit danger mac amaz joystick especi love ...</td>\n",
       "    </tr>\n",
       "    <tr>\n",
       "      <th>1</th>\n",
       "      <td>US</td>\n",
       "      <td>9636577</td>\n",
       "      <td>R1ZV7R40OLHKD</td>\n",
       "      <td>B00M920ND6</td>\n",
       "      <td>569686175</td>\n",
       "      <td>Tonsee 6 buttons Wireless Optical Silent Gamin...</td>\n",
       "      <td>Video Games</td>\n",
       "      <td>5</td>\n",
       "      <td>0</td>\n",
       "      <td>0</td>\n",
       "      <td>N</td>\n",
       "      <td>Y</td>\n",
       "      <td>Definitely a silent mouse... Not a single clic...</td>\n",
       "      <td>Loved it,  I didn't even realise it was a gami...</td>\n",
       "      <td>2015-08-31</td>\n",
       "      <td>EN</td>\n",
       "      <td>love even realis game mous type silent mous se...</td>\n",
       "    </tr>\n",
       "    <tr>\n",
       "      <th>2</th>\n",
       "      <td>US</td>\n",
       "      <td>2331478</td>\n",
       "      <td>R3BH071QLH8QMC</td>\n",
       "      <td>B0029CSOD2</td>\n",
       "      <td>98937668</td>\n",
       "      <td>Hidden Mysteries: Titanic Secrets of the Fatef...</td>\n",
       "      <td>Video Games</td>\n",
       "      <td>1</td>\n",
       "      <td>0</td>\n",
       "      <td>1</td>\n",
       "      <td>N</td>\n",
       "      <td>Y</td>\n",
       "      <td>One Star</td>\n",
       "      <td>poor quality work and not as it is advertised.</td>\n",
       "      <td>2015-08-31</td>\n",
       "      <td>EN</td>\n",
       "      <td>poor qualiti advertis</td>\n",
       "    </tr>\n",
       "    <tr>\n",
       "      <th>3</th>\n",
       "      <td>US</td>\n",
       "      <td>52495923</td>\n",
       "      <td>R127K9NTSXA2YH</td>\n",
       "      <td>B00GOOSV98</td>\n",
       "      <td>23143350</td>\n",
       "      <td>GelTabz Performance Thumb Grips - PlayStation ...</td>\n",
       "      <td>Video Games</td>\n",
       "      <td>3</td>\n",
       "      <td>0</td>\n",
       "      <td>0</td>\n",
       "      <td>N</td>\n",
       "      <td>Y</td>\n",
       "      <td>good, but could be bettee</td>\n",
       "      <td>nice, but tend to slip away from stick in inte...</td>\n",
       "      <td>2015-08-31</td>\n",
       "      <td>EN</td>\n",
       "      <td>nice tend slip away stick intens hard press ga...</td>\n",
       "    </tr>\n",
       "    <tr>\n",
       "      <th>4</th>\n",
       "      <td>US</td>\n",
       "      <td>14533949</td>\n",
       "      <td>R32ZWUXDJPW27Q</td>\n",
       "      <td>B00Y074JOM</td>\n",
       "      <td>821342511</td>\n",
       "      <td>Zero Suit Samus amiibo - Japan Import (Super S...</td>\n",
       "      <td>Video Games</td>\n",
       "      <td>4</td>\n",
       "      <td>0</td>\n",
       "      <td>0</td>\n",
       "      <td>N</td>\n",
       "      <td>Y</td>\n",
       "      <td>Great but flawed.</td>\n",
       "      <td>Great amiibo, great for collecting. Quality ma...</td>\n",
       "      <td>2015-08-31</td>\n",
       "      <td>EN</td>\n",
       "      <td>great amiibo great collect qualiti materi desi...</td>\n",
       "    </tr>\n",
       "  </tbody>\n",
       "</table>\n",
       "</div>"
      ],
      "text/plain": [
       "  marketplace  customer_id       review_id  product_id  product_parent  \\\n",
       "0          US     12039526   RTIS3L2M1F5SM  B001CXYMFS       737716809   \n",
       "1          US      9636577   R1ZV7R40OLHKD  B00M920ND6       569686175   \n",
       "2          US      2331478  R3BH071QLH8QMC  B0029CSOD2        98937668   \n",
       "3          US     52495923  R127K9NTSXA2YH  B00GOOSV98        23143350   \n",
       "4          US     14533949  R32ZWUXDJPW27Q  B00Y074JOM       821342511   \n",
       "\n",
       "                                       product_title product_category  \\\n",
       "0         Thrustmaster T-Flight Hotas X Flight Stick      Video Games   \n",
       "1  Tonsee 6 buttons Wireless Optical Silent Gamin...      Video Games   \n",
       "2  Hidden Mysteries: Titanic Secrets of the Fatef...      Video Games   \n",
       "3  GelTabz Performance Thumb Grips - PlayStation ...      Video Games   \n",
       "4  Zero Suit Samus amiibo - Japan Import (Super S...      Video Games   \n",
       "\n",
       "   star_rating  helpful_votes  total_votes vine verified_purchase  \\\n",
       "0            5              0            0    N                 Y   \n",
       "1            5              0            0    N                 Y   \n",
       "2            1              0            1    N                 Y   \n",
       "3            3              0            0    N                 Y   \n",
       "4            4              0            0    N                 Y   \n",
       "\n",
       "                                     review_headline  \\\n",
       "0  an amazing joystick. I especially love that yo...   \n",
       "1  Definitely a silent mouse... Not a single clic...   \n",
       "2                                           One Star   \n",
       "3                          good, but could be bettee   \n",
       "4                                  Great but flawed.   \n",
       "\n",
       "                                         review_body review_date language  \\\n",
       "0  Used this for Elite Dangerous on my mac, an am...  2015-08-31       EN   \n",
       "1  Loved it,  I didn't even realise it was a gami...  2015-08-31       EN   \n",
       "2     poor quality work and not as it is advertised.  2015-08-31       EN   \n",
       "3  nice, but tend to slip away from stick in inte...  2015-08-31       EN   \n",
       "4  Great amiibo, great for collecting. Quality ma...  2015-08-31       EN   \n",
       "\n",
       "                                   processed_reviews  \n",
       "0  use elit danger mac amaz joystick especi love ...  \n",
       "1  love even realis game mous type silent mous se...  \n",
       "2                              poor qualiti advertis  \n",
       "3  nice tend slip away stick intens hard press ga...  \n",
       "4  great amiibo great collect qualiti materi desi...  "
      ]
     },
     "execution_count": 4,
     "metadata": {},
     "output_type": "execute_result"
    }
   ],
   "source": [
    "data_en.head()"
   ]
  },
  {
   "attachments": {},
   "cell_type": "markdown",
   "metadata": {},
   "source": [
    "# Split data into train, test and val"
   ]
  },
  {
   "cell_type": "code",
   "execution_count": 5,
   "metadata": {},
   "outputs": [],
   "source": [
    "X_train, X_test_val, y_train, y_test_val = train_test_split(data_en.processed_reviews, data_en.star_rating, test_size= 0.4, random_state=42)\n",
    "X_val, X_test, y_val, y_test = train_test_split(X_test_val, y_test_val, random_state=42)"
   ]
  },
  {
   "attachments": {},
   "cell_type": "markdown",
   "metadata": {},
   "source": [
    "# Illustrate class imbalance"
   ]
  },
  {
   "cell_type": "code",
   "execution_count": 6,
   "metadata": {},
   "outputs": [
    {
     "data": {
      "text/plain": [
       "Text(0.5, 1.0, 'Rating distribution for samples')"
      ]
     },
     "execution_count": 6,
     "metadata": {},
     "output_type": "execute_result"
    },
    {
     "data": {
      "image/png": "[encoded data removed]",
      "text/plain": [
       "<Figure size 432x288 with 1 Axes>"
      ]
     },
     "metadata": {
      "needs_background": "light"
     },
     "output_type": "display_data"
    }
   ],
   "source": [
    "pd.concat([pd.DataFrame(x).value_counts(normalize=1) for x in [y_train, y_val, y_test]], axis=1).rename({0:\"train\", 1:\"val\", 2:\"test\"}, axis=1).plot(kind=\"bar\")\n",
    "plt.title(\"Rating distribution for samples\")\n"
   ]
  },
  {
   "attachments": {},
   "cell_type": "markdown",
   "metadata": {},
   "source": [
    "# Vectorization\n",
    "\n",
    "Idea: Define a function performing vectorization, to make it easy to add other methods"
   ]
  },
  {
   "cell_type": "code",
   "execution_count": 7,
   "metadata": {},
   "outputs": [],
   "source": [
    "def tf_idf_transformer(X_train, X_val):\n",
    "    count_vect = CountVectorizer()\n",
    "    X_train_counts = count_vect.fit_transform(X_train)\n",
    "    X_train_counts.shape\n",
    "    #tf_transformer = TfidfTransformer(use_idf=False).fit(X_train_counts)\n",
    "    #X_train_tf = tf_transformer.transform(X_train_counts)\n",
    "    #X_train_tf.shape\n",
    "    tfidf_transformer = TfidfTransformer()\n",
    "    X_train_tfidf = tfidf_transformer.fit_transform(X_train_counts)\n",
    "    #X_train_tfidf.shape\n",
    "    X_val_tfidf = count_vect.transform(X_val)\n",
    "    X_val_tfidf = tfidf_transformer.transform(X_val_tfidf)    \n",
    "\n",
    "    return X_train_tfidf, X_val_tfidf\n"
   ]
  },
  {
   "cell_type": "code",
   "execution_count": 8,
   "metadata": {},
   "outputs": [],
   "source": [
    "X_train_vectorized, X_val_vectorized = tf_idf_transformer(X_train, X_val)"
   ]
  },
  {
   "attachments": {},
   "cell_type": "markdown",
   "metadata": {},
   "source": [
    "# Classification"
   ]
  },
  {
   "cell_type": "code",
   "execution_count": 37,
   "metadata": {},
   "outputs": [],
   "source": [
    "clf_mnNB = MultinomialNB().fit(X_train_vectorized, y_train)\n"
   ]
  },
  {
   "cell_type": "code",
   "execution_count": 43,
   "metadata": {},
   "outputs": [],
   "source": [
    "clf_knn = KNeighborsClassifier(n_neighbors=100).fit(X_train_vectorized, y_train)\n"
   ]
  },
  {
   "cell_type": "code",
   "execution_count": 45,
   "metadata": {},
   "outputs": [],
   "source": [
    "# Assessement of results"
   ]
  },
  {
   "cell_type": "code",
   "execution_count": 34,
   "metadata": {},
   "outputs": [],
   "source": [
    "def assess_on_val(clf, X_val_vectorized, y_val):\n",
    "    predicted = clf.predict(X_val_vectorized)\n",
    "    total_accuracy = metrics.accuracy_score(predicted, y_val)\n",
    "\n",
    "    accuracy_by_rating_class = {rc : metrics.accuracy_score(predicted[y_val==rc], y_val[y_val==rc]) for rc in data_en.star_rating.unique()}\n",
    "    accuracy_by_rating_class = pd.DataFrame.from_dict(accuracy_by_rating_class, orient=\"index\")\n",
    "\n",
    "    fig = plt.figure(figsize=(20,5))\n",
    "    ax = fig.add_subplot(131)\n",
    "    accuracy_by_rating_class.sort_index().plot(kind = \"bar\", ax = ax)\n",
    "    ax.set_title(\"Accuracy per  \\nrating class\")\n",
    "    ax.axhline(y = total_accuracy, color ='r', linestyle = '--')\n",
    "    ax.get_legend().remove()\n",
    "    ax.set_ylim(0,1)\n",
    "\n",
    "    ax2 = fig.add_subplot(132)\n",
    "    pd.DataFrame({\"star_rating\": predicted}).value_counts(normalize=1).reset_index().set_index(\"star_rating\").sort_index().plot(kind=\"bar\", ax=ax2)\n",
    "    ax2.set_title(\"Percentage of \\n predicted rating class\")\n",
    "    ax2.get_legend().remove()\n",
    "    ax2.set_ylim(0,1)\n",
    "\n",
    "    ax3 = fig.add_subplot(133)\n",
    "    pd.DataFrame({\"star_rating\": y_val}).value_counts(normalize=1).reset_index().set_index(\"star_rating\").sort_index().plot(kind=\"bar\", ax=ax3)\n",
    "    ax3.set_title(\"Percentage of actual \\n rating classes in val\")\n",
    "    ax3.get_legend().remove()\n",
    "    ax3.set_ylim(0,1)\n",
    "    return fig\n",
    "\n",
    "\n",
    "\n",
    "\n",
    "\n",
    "#metrics.accuracy_score(predicted[y_val==rc], y_val[y_val==rc])"
   ]
  },
  {
   "cell_type": "code",
   "execution_count": 38,
   "metadata": {},
   "outputs": [
    {
     "data": {
      "image/png": "[encoded data removed]",
      "text/plain": [
       "<Figure size 1440x360 with 3 Axes>"
      ]
     },
     "metadata": {
      "needs_background": "light"
     },
     "output_type": "display_data"
    }
   ],
   "source": [
    "\n",
    "assess_on_val(clf_mnNB, X_val_vectorized, y_val);\n",
    "\n"
   ]
  },
  {
   "cell_type": "code",
   "execution_count": 44,
   "metadata": {},
   "outputs": [
    {
     "data": {
      "image/png": "[encoded data removed]",
      "text/plain": [
       "<Figure size 1440x360 with 3 Axes>"
      ]
     },
     "metadata": {
      "needs_background": "light"
     },
     "output_type": "display_data"
    }
   ],
   "source": [
    "assess_on_val(clf_knn, X_val_vectorized, y_val);"
   ]
  }
 ],
 "metadata": {
  "kernelspec": {
   "display_name": "py38",
   "language": "python",
   "name": "python3"
  },
  "language_info": {
   "codemirror_mode": {
    "name": "ipython",
    "version": 3
   },
   "file_extension": ".py",
   "mimetype": "text/x-python",
   "name": "python",
   "nbconvert_exporter": "python",
   "pygments_lexer": "ipython3",
   "version": "3.8.3"
  },
  "orig_nbformat": 4,
  "vscode": {
   "interpreter": {
    "hash": "99db2566da6433d2def8e2fc6bb89f050cfe29c82cf2304e4b70eb18da6471d0"
   }
  }
 },
 "nbformat": 4,
 "nbformat_minor": 2
}
